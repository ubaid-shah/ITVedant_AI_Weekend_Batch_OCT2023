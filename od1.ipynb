{
 "cells": [
  {
   "cell_type": "code",
   "execution_count": 2,
   "metadata": {},
   "outputs": [],
   "source": [
    "import cv2"
   ]
  },
  {
   "cell_type": "code",
   "execution_count": 4,
   "metadata": {},
   "outputs": [],
   "source": [
    "config_file=r'C:\\Users\\admin\\Documents\\Ubaid_CV\\Mobilenet_SSD\\ssd_mobilenet_v3_large_coco_2020_01_14.pbtxt'\n",
    "\n",
    "graph_file=r'C:\\Users\\admin\\Documents\\Ubaid_CV\\Mobilenet_SSD\\frozen_inference_graph.pb'\n",
    "\n",
    "labels=r'C:\\Users\\admin\\Documents\\Ubaid_CV\\Mobilenet_SSD\\labels.txt'"
   ]
  },
  {
   "cell_type": "code",
   "execution_count": 5,
   "metadata": {},
   "outputs": [],
   "source": [
    "model=cv2.dnn_DetectionModel(graph_file,config_file)"
   ]
  },
  {
   "cell_type": "code",
   "execution_count": 6,
   "metadata": {},
   "outputs": [],
   "source": [
    "class_labels=[]\n",
    "\n",
    "with open (labels,'rt') as f:\n",
    "  class_labels=f.read().rstrip('\\n').split('\\n')"
   ]
  },
  {
   "cell_type": "code",
   "execution_count": null,
   "metadata": {},
   "outputs": [],
   "source": [
    "print(class_labels)"
   ]
  },
  {
   "cell_type": "code",
   "execution_count": null,
   "metadata": {},
   "outputs": [],
   "source": [
    "model.setInputSize(320,320)\n",
    "model.setInputScale(1.0/127.5)\n",
    "model.setInputMean((127.5,127.5,127.5))\n",
    "model.setInputSwapRB(True)"
   ]
  },
  {
   "cell_type": "code",
   "execution_count": 22,
   "metadata": {},
   "outputs": [],
   "source": [
    "img=cv2.imread(r'C:\\Users\\admin\\Documents\\Ubaid_CV\\Data\\pexels-photo-3619972.jpeg')"
   ]
  },
  {
   "cell_type": "code",
   "execution_count": 42,
   "metadata": {},
   "outputs": [],
   "source": [
    "class_index,conf,bbox=model.detect(img,confThreshold=0.6)"
   ]
  },
  {
   "cell_type": "code",
   "execution_count": null,
   "metadata": {},
   "outputs": [],
   "source": [
    "class_index"
   ]
  },
  {
   "cell_type": "code",
   "execution_count": 44,
   "metadata": {},
   "outputs": [],
   "source": [
    "x=[class_labels[i-1] for i in class_index]"
   ]
  },
  {
   "cell_type": "code",
   "execution_count": null,
   "metadata": {},
   "outputs": [],
   "source": [
    "x"
   ]
  },
  {
   "cell_type": "code",
   "execution_count": null,
   "metadata": {},
   "outputs": [],
   "source": [
    "class_labels[31]"
   ]
  },
  {
   "cell_type": "code",
   "execution_count": null,
   "metadata": {},
   "outputs": [],
   "source": [
    "conf"
   ]
  },
  {
   "cell_type": "code",
   "execution_count": null,
   "metadata": {},
   "outputs": [],
   "source": [
    "bbox"
   ]
  },
  {
   "cell_type": "code",
   "execution_count": 49,
   "metadata": {},
   "outputs": [],
   "source": [
    "for classind,conf_l,box in zip(class_index.flatten(),conf.flatten(),bbox):\n",
    "  cv2.rectangle(img,box,(0,255,0),2)\n",
    "  cv2.putText(img,class_labels[classind-1],(box[0]-10,box[1]-40),cv2.FONT_HERSHEY_PLAIN,1,(0,0,255),2)"
   ]
  },
  {
   "cell_type": "code",
   "execution_count": 50,
   "metadata": {},
   "outputs": [],
   "source": [
    "cv2.imshow('img',img)\n",
    "cv2.waitKey(0) & 0xFF\n",
    "cv2.destroyAllWindows()"
   ]
  },
  {
   "cell_type": "code",
   "execution_count": null,
   "metadata": {},
   "outputs": [],
   "source": [
    "cap=cv2.VideoCapture(r\"\")\n",
    "\n",
    "while True:\n",
    "  ret,img=cap.read()\n",
    "  \n",
    "  class_index,conf,bbox=model.detect(img,confThreshold=0.6)\n",
    "  \n",
    "  for classind,conf_l,box in zip(class_index.flatten(),conf.flatten(),bbox):\n",
    "    cv2.rectangle(img,box,(0,255,0),2)\n",
    "    cv2.putText(img,class_labels[classind-1],(box[0]-10,box[1]-40),cv2.FONT_HERSHEY_PLAIN,1,(0,0,255),2)\n",
    "    \n",
    "  cv2.imshow('img',img)\n",
    "  if cv2.waitKey(0) & 0xFF==ord('q'):\n",
    "    break\n",
    "\n",
    "cap.release()\n",
    "cv2.destroyAllWindows() \n",
    "  "
   ]
  }
 ],
 "metadata": {
  "kernelspec": {
   "display_name": "Python 3",
   "language": "python",
   "name": "python3"
  },
  "language_info": {
   "codemirror_mode": {
    "name": "ipython",
    "version": 3
   },
   "file_extension": ".py",
   "mimetype": "text/x-python",
   "name": "python",
   "nbconvert_exporter": "python",
   "pygments_lexer": "ipython3",
   "version": "3.10.0"
  }
 },
 "nbformat": 4,
 "nbformat_minor": 2
}
